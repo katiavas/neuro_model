{
 "cells": [
  {
   "cell_type": "code",
   "execution_count": null,
   "id": "31e53fe4",
   "metadata": {},
   "outputs": [],
   "source": [
    "# from Morvan Zhou's implementation:\n",
    "# https://github.com/MorvanZhou/pytorch-A3C\n",
    "\n",
    "import torch as T\n",
    "\n",
    "\n",
    "class SharedAdam(T.optim.Adam):\n",
    "    def __init__(self, params, lr=1e-4, betas=(0.9, 0.99), eps=1e-8,\n",
    "                 weight_decay=0):\n",
    "        super(SharedAdam, self).__init__(params, lr=lr, betas=betas,\n",
    "                                         eps=eps, weight_decay=weight_decay)\n",
    "\n",
    "        for group in self.param_groups:\n",
    "            for p in group['params']:\n",
    "                state = self.state[p]\n",
    "                state['step'] = 0\n",
    "                state['exp_avg'] = T.zeros_like(p.data)\n",
    "                state['exp_avg_sq'] = T.zeros_like(p.data)\n",
    "\n",
    "                state['exp_avg'].share_memory_()\n",
    "                state['exp_avg_sq'].share_memory_()"
   ]
  }
 ],
 "metadata": {
  "kernelspec": {
   "display_name": "Python 3",
   "language": "python",
   "name": "python3"
  },
  "language_info": {
   "codemirror_mode": {
    "name": "ipython",
    "version": 3
   },
   "file_extension": ".py",
   "mimetype": "text/x-python",
   "name": "python",
   "nbconvert_exporter": "python",
   "pygments_lexer": "ipython3",
   "version": "3.8.8"
  }
 },
 "nbformat": 4,
 "nbformat_minor": 5
}
