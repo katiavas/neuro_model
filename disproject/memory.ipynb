{
 "cells": [
  {
   "cell_type": "code",
   "execution_count": 1,
   "id": "58756b84",
   "metadata": {},
   "outputs": [],
   "source": [
    "'''Batch memory'''\n",
    "class Memory:\n",
    "    def __init__(self):\n",
    "        self.states = []\n",
    "        self.actions = []\n",
    "        self.rewards = []\n",
    "        self.new_states = []\n",
    "        self.values = []\n",
    "        self.log_probs = []\n",
    "    # Restore our transitions\n",
    "    def remember(self, state, action, reward, new_state, value, log_p):\n",
    "        self.actions.append(action)\n",
    "        self.rewards.append(reward)\n",
    "        self.states.append(state)\n",
    "        self.new_states.append(new_state)\n",
    "        self.log_probs.append(log_p)\n",
    "        self.values.append(value)\n",
    "    # Functions to clear our memory\n",
    "    def clear_memory(self):\n",
    "        self.states = []\n",
    "        self.actions = []\n",
    "        self.rewards = []\n",
    "        self.new_states = []\n",
    "        self.values = []\n",
    "        self.log_probs = []\n",
    "\n",
    "    def sample_memory(self):\n",
    "        return self.states, self.actions, self.rewards, self.new_states,\\\n",
    "               self.values, self.log_probs"
   ]
  },
  {
   "cell_type": "code",
   "execution_count": null,
   "id": "0e1117aa",
   "metadata": {},
   "outputs": [],
   "source": []
  }
 ],
 "metadata": {
  "kernelspec": {
   "display_name": "Python 3",
   "language": "python",
   "name": "python3"
  },
  "language_info": {
   "codemirror_mode": {
    "name": "ipython",
    "version": 3
   },
   "file_extension": ".py",
   "mimetype": "text/x-python",
   "name": "python",
   "nbconvert_exporter": "python",
   "pygments_lexer": "ipython3",
   "version": "3.8.8"
  }
 },
 "nbformat": 4,
 "nbformat_minor": 5
}
