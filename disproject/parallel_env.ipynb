{
 "cells": [
  {
   "cell_type": "code",
   "execution_count": null,
   "id": "66d7fa1e",
   "metadata": {},
   "outputs": [],
   "source": [
    "import torch.multiprocessing as mp\n",
    "from a3c import ActorCritic\n",
    "from icm import ICM\n",
    "from shared_adam import SharedAdam\n",
    "from worker import worker\n",
    "# Worker function is what handles all the main functionalities and is called by the multiprocessing function here\n",
    "# Functionality to parallelise our environments and agents\n",
    "class ParallelEnv:\n",
    "    def __init__(self, env_id, input_shape, n_actions, icm, n_threads=8):\n",
    "        # icm is a boolean : whether or not we want to use the icm algorithm\n",
    "        # name all of our threads\n",
    "        names = [str(i) for i in range(1, n_threads+1)]\n",
    "        # define global a3cs and global icms\n",
    "        global_actor_critic = ActorCritic(input_shape, n_actions)\n",
    "        global_actor_critic.share_memory()\n",
    "        # Share the memory of all of our global agents amongst all the local agents\n",
    "        ''' This is the basic idea of a3c: You gonna have a whole bunch of independent agents in their own thread interacting with their own environments,\n",
    "        they are gonna do their own learning and upload their learning to the global actor critic'''\n",
    "        global_optim = SharedAdam(global_actor_critic.parameters())\n",
    "\n",
    "        if not icm:\n",
    "            global_icm = None\n",
    "            global_icm_optim = None\n",
    "        else:\n",
    "            global_icm = ICM(input_shape, n_actions)\n",
    "            global_icm.share_memory()\n",
    "            global_icm_optim = SharedAdam(global_icm.parameters())\n",
    "        # Define our processors, the target is the function we wanna call for each individual thread \n",
    "        self.ps = [mp.Process(target=worker,\n",
    "                              args=(name, input_shape, n_actions, \n",
    "                                    global_actor_critic, global_icm,\n",
    "                                    global_optim, global_icm_optim, env_id,\n",
    "                                    n_threads, icm))\n",
    "                   for name in names]\n",
    "\n",
    "        [p.start() for p in self.ps]\n",
    "        [p.join() for p in self.ps]"
   ]
  }
 ],
 "metadata": {
  "kernelspec": {
   "display_name": "Python 3",
   "language": "python",
   "name": "python3"
  },
  "language_info": {
   "codemirror_mode": {
    "name": "ipython",
    "version": 3
   },
   "file_extension": ".py",
   "mimetype": "text/x-python",
   "name": "python",
   "nbconvert_exporter": "python",
   "pygments_lexer": "ipython3",
   "version": "3.8.8"
  }
 },
 "nbformat": 4,
 "nbformat_minor": 5
}
